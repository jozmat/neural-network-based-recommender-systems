{
  "nbformat": 4,
  "nbformat_minor": 0,
  "metadata": {
    "colab": {
      "name": "MLP1+MLP.ipynb",
      "provenance": [],
      "collapsed_sections": [],
      "toc_visible": true
    },
    "kernelspec": {
      "name": "python3",
      "display_name": "Python 3"
    },
    "accelerator": "GPU"
  },
  "cells": [
    {
      "cell_type": "markdown",
      "metadata": {
        "id": "aNJA8zGd2wa3",
        "colab_type": "text"
      },
      "source": [
        "# Imports\n",
        "### Python version: 3.6.9\n",
        "### Keras version: 2.3.1"
      ]
    },
    {
      "cell_type": "code",
      "metadata": {
        "id": "ZynooPSy20XA",
        "colab_type": "code",
        "colab": {}
      },
      "source": [
        "%tensorflow_version 1.x\n",
        "import pandas as pd\n",
        "import keras\n",
        "import tensorflow as tf\n",
        "from keras import backend as K\n",
        "from keras.models import Sequential\n",
        "from keras.layers import Dense, Dropout, Flatten, Input, Embedding, BatchNormalization, concatenate, Conv1D, MaxPool1D, LSTM, GRU, Add, Average\n",
        "from keras.optimizers import Adam\n",
        "from keras.layers.merge import dot\n",
        "from keras.models import Model\n",
        "from sklearn.model_selection import train_test_split\n",
        "\n",
        "import matplotlib.pyplot as plt\n",
        "%matplotlib inline"
      ],
      "execution_count": null,
      "outputs": []
    },
    {
      "cell_type": "markdown",
      "metadata": {
        "colab_type": "text",
        "id": "pZiCmw4Pecqa"
      },
      "source": [
        "#Loading MovieLens 1M dataset"
      ]
    },
    {
      "cell_type": "code",
      "metadata": {
        "colab_type": "code",
        "id": "WoPYb8-Tecqc",
        "colab": {}
      },
      "source": [
        "DATASET_PATH = 'dataset'\n",
        "df = pd.read_csv(DATASET_PATH + 'ratings.dat', sep=\"::\", header=None, names=['UserId', 'MovieId', 'Rating', 'Timestamp'])\n",
        "df_movies = pd.read_csv(DATASET_PATH + 'movies.dat', sep=\"::\", header=None, names=['MovieId', 'Title', 'Genres'])\n",
        "df_users = pd.read_csv(DATASET_PATH + 'users.dat', sep=\"::\", header=None, names=['UserId', 'Gender', 'Age', 'Occupation', 'Zipcode'])"
      ],
      "execution_count": null,
      "outputs": []
    },
    {
      "cell_type": "code",
      "metadata": {
        "colab_type": "code",
        "id": "mRFNf1bIecqg",
        "colab": {}
      },
      "source": [
        "print('Number of users:', len(df['UserId'].unique()))\n",
        "print('Number of movies:', len(df['MovieId'].unique()))\n",
        "print('Number of ratings:', len(df))"
      ],
      "execution_count": null,
      "outputs": []
    },
    {
      "cell_type": "code",
      "metadata": {
        "colab_type": "code",
        "id": "jzz9LvGwecqi",
        "colab": {}
      },
      "source": [
        "df['UserId'] = df['UserId'].astype('category').cat.codes.values\n",
        "df['MovieId'] = df['MovieId'].astype('category').cat.codes.values"
      ],
      "execution_count": null,
      "outputs": []
    },
    {
      "cell_type": "code",
      "metadata": {
        "id": "5E-XWyF1zElm",
        "colab_type": "code",
        "colab": {}
      },
      "source": [
        "def getUserAge(age):\n",
        "  if (age <= 8):\n",
        "    return '1-8'\n",
        "  elif (age <= 16):\n",
        "    return '9-16'\n",
        "  elif (age <= 24):\n",
        "    return '17-24'\n",
        "  elif (age <= 32):\n",
        "    return '25-32'\n",
        "  elif (age <= 40):\n",
        "    return '33-40'\n",
        "  elif (age <= 48):\n",
        "    return '41-48'\n",
        "  elif (age <= 56):\n",
        "    return '49-56'"
      ],
      "execution_count": null,
      "outputs": []
    },
    {
      "cell_type": "code",
      "metadata": {
        "id": "8IDbKn9qxRyG",
        "colab_type": "code",
        "colab": {}
      },
      "source": [
        "df['UserGender'] = df_users['Gender'].array[df['UserId']]\n",
        "df['UserOccupation'] = df_users['Occupation'].array[df['UserId']]\n",
        "\n",
        "df['UserTempAge'] = df_users['Age'].array[df['UserId']]\n",
        "df['UserAge'] = df['UserTempAge'].apply(getUserAge)\n",
        "df = df.drop('UserTempAge', axis=1)\n",
        "\n",
        "df['MovieGenres'] = df_movies['Genres'].array[df['MovieId']]\n",
        "df['AuxInfo'] = df['UserGender'].astype(str) + '_' + df['UserOccupation'].astype(str) + '_' + df['UserAge']"
      ],
      "execution_count": null,
      "outputs": []
    },
    {
      "cell_type": "code",
      "metadata": {
        "id": "-_YgZEgTDKGX",
        "colab_type": "code",
        "colab": {}
      },
      "source": [
        "from sklearn.preprocessing import LabelEncoder\n",
        "encoder = LabelEncoder()\n",
        "df['AuxInfo'] = encoder.fit_transform(df['AuxInfo'])\n",
        "encoder2 = LabelEncoder()\n",
        "df['MovieGenres'] = encoder2.fit_transform(df['MovieGenres'])"
      ],
      "execution_count": null,
      "outputs": []
    },
    {
      "cell_type": "markdown",
      "metadata": {
        "colab_type": "text",
        "id": "wWW_ewtngBWv"
      },
      "source": [
        "#Splitting data into training and test datasets"
      ]
    },
    {
      "cell_type": "code",
      "metadata": {
        "colab_type": "code",
        "id": "4nq8ArYMgBWx",
        "colab": {}
      },
      "source": [
        "x_train, x_test, y_train, y_test = train_test_split(df[['UserId','MovieId']], df[['Rating']], test_size=0.2, random_state=42)"
      ],
      "execution_count": null,
      "outputs": []
    },
    {
      "cell_type": "markdown",
      "metadata": {
        "colab_type": "text",
        "id": "5FK_LABElgaL"
      },
      "source": [
        "# MLP1+MLP model\n",
        "\n"
      ]
    },
    {
      "cell_type": "code",
      "metadata": {
        "colab_type": "code",
        "id": "17AA7rFMlgaS",
        "colab": {}
      },
      "source": [
        "latent_factors_aux = 128"
      ],
      "execution_count": null,
      "outputs": []
    },
    {
      "cell_type": "code",
      "metadata": {
        "colab_type": "code",
        "id": "H-FcPYV8lgaW",
        "colab": {}
      },
      "source": [
        "num_users = len(df['UserId'].unique())\n",
        "num_movies = len(df['MovieId'].unique())"
      ],
      "execution_count": null,
      "outputs": []
    },
    {
      "cell_type": "code",
      "metadata": {
        "colab_type": "code",
        "id": "Y6rnypydlgaY",
        "colab": {}
      },
      "source": [
        "aux_input = Input(shape=(1,),name='aux_input', dtype='int32')\n",
        "aux_embedding = Embedding(num_users, latent_factors_aux, name='aux_embedding')(aux_input)\n",
        "aux_flat = Flatten(name='aux_flat')(aux_embedding)\n",
        "aux_flat = Dropout(0.2)(aux_flat)"
      ],
      "execution_count": null,
      "outputs": []
    },
    {
      "cell_type": "code",
      "metadata": {
        "colab_type": "code",
        "id": "dalusBkXlgaZ",
        "colab": {}
      },
      "source": [
        "aux_dense1 = Dense(128, activation='relu')(aux_flat)\n",
        "aux_dense1 = Dropout(0.2)(aux_dense1)\n",
        "aux_dense2 = Dense(64, activation='relu')(aux_dense1)"
      ],
      "execution_count": null,
      "outputs": []
    },
    {
      "cell_type": "code",
      "metadata": {
        "colab_type": "code",
        "id": "VEIzwZhFlgab",
        "colab": {}
      },
      "source": [
        "latent_factors = 480"
      ],
      "execution_count": null,
      "outputs": []
    },
    {
      "cell_type": "code",
      "metadata": {
        "colab_type": "code",
        "id": "nA1-WEVnlgad",
        "colab": {}
      },
      "source": [
        "user_input = Input(shape=(1,),name='user_input', dtype='int32')\n",
        "user_embedding = Embedding(num_users, latent_factors, name='user_embedding')(user_input)\n",
        "user_flat = Flatten(name='user_flat')(user_embedding)\n",
        "user_flat = Dropout(0.2)(user_flat)"
      ],
      "execution_count": null,
      "outputs": []
    },
    {
      "cell_type": "code",
      "metadata": {
        "colab_type": "code",
        "id": "Byl4uEYNlgae",
        "colab": {}
      },
      "source": [
        "movie_input = Input(shape=(1,),name='movie_input', dtype='int32')\n",
        "movie_embedding = Embedding(num_movies, latent_factors, name='movie_embedding')(movie_input)\n",
        "movie_flat = Flatten(name='movie_flat')(movie_embedding)\n",
        "movie_flat = Dropout(0.2)(movie_flat)"
      ],
      "execution_count": null,
      "outputs": []
    },
    {
      "cell_type": "code",
      "metadata": {
        "colab_type": "code",
        "id": "Ooo2K9r5lgah",
        "colab": {}
      },
      "source": [
        "product = dot([user_flat, movie_flat], name='product', axes=1)"
      ],
      "execution_count": null,
      "outputs": []
    },
    {
      "cell_type": "code",
      "metadata": {
        "colab_type": "code",
        "id": "wHIRHd5vlgaj",
        "colab": {}
      },
      "source": [
        "dense1 = Dense(768, activation='relu')(product)\n",
        "dense1 = Dropout(0.2)(dense1)\n",
        "dense2 = Dense(256, activation='relu')(dense1)\n",
        "dense2 = Dropout(0.2)(dense2)\n",
        "dense3 = Dense(128, activation='relu')(dense2)\n",
        "dense3 = Dropout(0.2)(dense3)\n",
        "dense4 = Dense(64, activation='relu')(dense3)\n",
        "\n",
        "product2 = dot([dense4, aux_dense2], name ='product2', axes=1)"
      ],
      "execution_count": null,
      "outputs": []
    },
    {
      "cell_type": "code",
      "metadata": {
        "colab_type": "code",
        "id": "J4ktK5QVlgal",
        "colab": {}
      },
      "source": [
        "model = Model([user_input, movie_input, user_aux_input], product2)\n",
        "model.summary()"
      ],
      "execution_count": null,
      "outputs": []
    },
    {
      "cell_type": "code",
      "metadata": {
        "colab_type": "code",
        "id": "TmNFTH1olgan",
        "colab": {}
      },
      "source": [
        "learning_rate = 1e-4\n",
        "epochs = 120\n",
        "batch_size = 256"
      ],
      "execution_count": null,
      "outputs": []
    },
    {
      "cell_type": "code",
      "metadata": {
        "colab_type": "code",
        "id": "6pDbd2tAlgaq",
        "colab": {}
      },
      "source": [
        "callbacks = [\n",
        "    keras.callbacks.EarlyStopping(\n",
        "        monitor='val_loss',\n",
        "        min_delta=2e-4,\n",
        "        patience=4,\n",
        "        verbose=1)\n",
        "]"
      ],
      "execution_count": null,
      "outputs": []
    },
    {
      "cell_type": "code",
      "metadata": {
        "colab_type": "code",
        "id": "Cx2ljeHUlgat",
        "colab": {}
      },
      "source": [
        "model.compile(optimizer=Adam(lr=learning_rate), loss='mse', metrics=[tf.keras.metrics.RootMeanSquaredError(), tf.keras.metrics.MeanAbsoluteError()])"
      ],
      "execution_count": null,
      "outputs": []
    },
    {
      "cell_type": "code",
      "metadata": {
        "colab_type": "code",
        "id": "wvyq1v2plgau",
        "colab": {}
      },
      "source": [
        "fit = model.fit([x_train['UserId'], x_train['MovieId'], x_train['AuxInfo']], y_train,\n",
        "                batch_size=batch_size,\n",
        "                epochs=epochs,\n",
        "                callbacks=callbacks,\n",
        "                shuffle=True, \n",
        "                validation_split=0.25)"
      ],
      "execution_count": null,
      "outputs": []
    },
    {
      "cell_type": "code",
      "metadata": {
        "colab_type": "code",
        "id": "twKnUd1clgaw",
        "colab": {}
      },
      "source": [
        "result = model.evaluate([x_test['UserId'], x_test['MovieId'], x_test['AuxInfo']], y_test, batch_size=batch_size)\n",
        "print('Test dataset results (test loss, RMSE, MAE): ', result)"
      ],
      "execution_count": null,
      "outputs": []
    }
  ]
}