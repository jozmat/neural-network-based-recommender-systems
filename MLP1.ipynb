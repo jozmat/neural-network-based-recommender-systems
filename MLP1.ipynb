{
  "nbformat": 4,
  "nbformat_minor": 0,
  "metadata": {
    "colab": {
      "name": "MLP1.ipynb",
      "provenance": [],
      "collapsed_sections": [],
      "toc_visible": true
    },
    "kernelspec": {
      "name": "python3",
      "display_name": "Python 3"
    },
    "accelerator": "GPU"
  },
  "cells": [
    {
      "cell_type": "markdown",
      "metadata": {
        "id": "aNJA8zGd2wa3",
        "colab_type": "text"
      },
      "source": [
        "# Imports\n",
        "### Python version: 3.6.9\n",
        "### Keras version: 2.3.1"
      ]
    },
    {
      "cell_type": "code",
      "metadata": {
        "id": "ZynooPSy20XA",
        "colab_type": "code",
        "colab": {}
      },
      "source": [
        "%tensorflow_version 1.x\n",
        "import pandas as pd\n",
        "import keras\n",
        "import tensorflow as tf\n",
        "from keras import backend as K\n",
        "from keras.models import Sequential\n",
        "from keras.layers import Dense, Dropout, Flatten, Input, Embedding, BatchNormalization, concatenate\n",
        "from keras.optimizers import Adam\n",
        "from keras.layers.merge import dot\n",
        "from keras.models import Model\n",
        "from sklearn.model_selection import train_test_split\n",
        "\n",
        "import matplotlib.pyplot as plt\n",
        "%matplotlib inline"
      ],
      "execution_count": null,
      "outputs": []
    },
    {
      "cell_type": "markdown",
      "metadata": {
        "id": "gyCmDu7_6dqC",
        "colab_type": "text"
      },
      "source": [
        "#Loading MovieLens 1M dataset"
      ]
    },
    {
      "cell_type": "code",
      "metadata": {
        "id": "AN3dYObW6gbJ",
        "colab_type": "code",
        "colab": {}
      },
      "source": [
        "DATASET_PATH = 'dataset'\n",
        "df = pd.read_csv(DATASET_PATH + 'ratings.dat', sep=\"::\", header=None, names=['UserId', 'MovieId', 'Rating', 'Timestamp'])\n",
        "df_movies = pd.read_csv(DATASET_PATH + 'movies.dat', sep=\"::\", header=None, names=['MovieId', 'Title', 'Genres'])\n",
        "df_users = pd.read_csv(DATASET_PATH + 'users.dat', sep=\"::\", header=None, names=['UserId', 'Gender', 'Age', 'Occupation', 'Zipcode'])"
      ],
      "execution_count": null,
      "outputs": []
    },
    {
      "cell_type": "code",
      "metadata": {
        "id": "b8SI0v1M7R1l",
        "colab_type": "code",
        "colab": {}
      },
      "source": [
        "print('Number of users:', len(df['UserId'].unique()))\n",
        "print('Number of movies:', len(df['MovieId'].unique()))\n",
        "print('Number of ratings:', len(df))"
      ],
      "execution_count": null,
      "outputs": []
    },
    {
      "cell_type": "code",
      "metadata": {
        "id": "4-YUpL-8Bub4",
        "colab_type": "code",
        "colab": {}
      },
      "source": [
        "df['UserId'] = df['UserId'].astype('category').cat.codes.values\n",
        "df['MovieId'] = df['MovieId'].astype('category').cat.codes.values"
      ],
      "execution_count": null,
      "outputs": []
    },
    {
      "cell_type": "markdown",
      "metadata": {
        "id": "gkY5i-AVNwBY",
        "colab_type": "text"
      },
      "source": [
        "#Splitting data into training and test datasets"
      ]
    },
    {
      "cell_type": "code",
      "metadata": {
        "id": "kMC-2xPQGNPi",
        "colab_type": "code",
        "colab": {}
      },
      "source": [
        "x_train, x_test, y_train, y_test = train_test_split(df[['UserId','MovieId']], df[['Rating']], test_size=0.2, random_state=42)"
      ],
      "execution_count": null,
      "outputs": []
    },
    {
      "cell_type": "markdown",
      "metadata": {
        "id": "DYHgAk57ToiT",
        "colab_type": "text"
      },
      "source": [
        "# MLP1 model\n",
        "\n"
      ]
    },
    {
      "cell_type": "code",
      "metadata": {
        "id": "YPPc4XWWI-zC",
        "colab_type": "code",
        "colab": {}
      },
      "source": [
        "latent_factors = 480"
      ],
      "execution_count": null,
      "outputs": []
    },
    {
      "cell_type": "code",
      "metadata": {
        "colab_type": "code",
        "id": "d9oQCeQiJDeu",
        "colab": {}
      },
      "source": [
        "num_users = len(df['UserId'].unique())\n",
        "num_movies = len(df['MovieId'].unique())"
      ],
      "execution_count": null,
      "outputs": []
    },
    {
      "cell_type": "code",
      "metadata": {
        "id": "eZpR6tA6Tseo",
        "colab_type": "code",
        "colab": {}
      },
      "source": [
        "user_input = Input(shape=(1,),name='user_input', dtype='int32')\n",
        "user_embedding = Embedding(num_users, latent_factors, name='user_embedding')(user_input)\n",
        "user_flat = Flatten(name='user_flat')(user_embedding)\n",
        "user_flat = Dropout(0.2)(user_flat)"
      ],
      "execution_count": null,
      "outputs": []
    },
    {
      "cell_type": "code",
      "metadata": {
        "id": "gnRbgPu1EogI",
        "colab_type": "code",
        "colab": {}
      },
      "source": [
        "movie_input = Input(shape=(1,),name='movie_input', dtype='int32')\n",
        "movie_embedding = Embedding(num_movies, latent_factors, name='movie_embedding')(movie_input)\n",
        "movie_flat = Flatten(name='movie_flat')(movie_embedding)\n",
        "movie_flat = Dropout(0.2)(movie_flat)"
      ],
      "execution_count": null,
      "outputs": []
    },
    {
      "cell_type": "code",
      "metadata": {
        "colab_type": "code",
        "id": "iUbl8QLpIgdK",
        "colab": {}
      },
      "source": [
        "product = dot([user_flat, movie_flat], name='product', axes=1)"
      ],
      "execution_count": null,
      "outputs": []
    },
    {
      "cell_type": "code",
      "metadata": {
        "colab_type": "code",
        "id": "Hk57mKqBIgdT",
        "colab": {}
      },
      "source": [
        "dense1 = Dense(768, activation='relu')(product)\n",
        "dense1 = Dropout(0.2)(dense1)\n",
        "dense2 = Dense(256, activation='relu')(dense1)\n",
        "dense2 = Dropout(0.2)(dense2)\n",
        "dense3 = Dense(128, activation='relu')(dense2)\n",
        "dense3 = Dropout(0.2)(dense3)\n",
        "dense4 = Dense(64, activation='relu')(dense3)\n",
        "dense_out = Dense(1, activation='relu')(dense4)"
      ],
      "execution_count": null,
      "outputs": []
    },
    {
      "cell_type": "code",
      "metadata": {
        "colab_type": "code",
        "id": "N-v7e1spIgdW",
        "colab": {}
      },
      "source": [
        "model = Model([user_input, movie_input], dense_out)\n",
        "model.summary()"
      ],
      "execution_count": null,
      "outputs": []
    },
    {
      "cell_type": "code",
      "metadata": {
        "id": "9iQ6ujfcE-EB",
        "colab_type": "code",
        "colab": {}
      },
      "source": [
        "learning_rate = 1e-4\n",
        "epochs = 120\n",
        "batch_size = 256"
      ],
      "execution_count": null,
      "outputs": []
    },
    {
      "cell_type": "code",
      "metadata": {
        "colab_type": "code",
        "id": "fbik99kXJkhV",
        "colab": {}
      },
      "source": [
        "callbacks = [\n",
        "    keras.callbacks.EarlyStopping(\n",
        "        monitor='val_loss',\n",
        "        min_delta=1e-3,\n",
        "        patience=4,\n",
        "        verbose=1)\n",
        "]"
      ],
      "execution_count": null,
      "outputs": []
    },
    {
      "cell_type": "code",
      "metadata": {
        "id": "tgMayTfpFDKp",
        "colab_type": "code",
        "colab": {}
      },
      "source": [
        "model.compile(optimizer=Adam(lr=learning_rate), loss='mse', metrics=[tf.keras.metrics.RootMeanSquaredError(), tf.keras.metrics.MeanAbsoluteError()])"
      ],
      "execution_count": null,
      "outputs": []
    },
    {
      "cell_type": "code",
      "metadata": {
        "id": "mO9FzrsMFKQg",
        "colab_type": "code",
        "colab": {}
      },
      "source": [
        "fit = model.fit([x_train['UserId'], x_train['MovieId']], y_train,\n",
        "                batch_size=batch_size,\n",
        "                epochs=epochs,\n",
        "                callbacks=callbacks,\n",
        "                shuffle=True, \n",
        "                validation_split=0.25)"
      ],
      "execution_count": null,
      "outputs": []
    },
    {
      "cell_type": "code",
      "metadata": {
        "id": "orgwvJB-FVE1",
        "colab_type": "code",
        "colab": {}
      },
      "source": [
        "result = model.evaluate([x_test['UserId'], x_test['MovieId']], y_test, batch_size=batch_size)\n",
        "print('Test dataset results (test loss, RMSE, MAE): ', result)"
      ],
      "execution_count": null,
      "outputs": []
    }
  ]
}